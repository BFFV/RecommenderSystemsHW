{
 "cells": [
  {
   "cell_type": "markdown",
   "source": [
    "# Tarea 1: MyAnimeRecSys\n",
    "\n",
    "## Integrantes:\n",
    "\n",
    "\n",
    "- Benjamín Farías V.\n",
    "- Benjamín Lepe M."
   ],
   "metadata": {}
  },
  {
   "cell_type": "markdown",
   "source": [
    "# Setup"
   ],
   "metadata": {}
  },
  {
   "cell_type": "markdown",
   "source": [
    "Primero importamos las librerías necesarias:"
   ],
   "metadata": {}
  },
  {
   "cell_type": "code",
   "execution_count": 12,
   "source": [
    "import pandas as pd\n",
    "import pyreclab\n",
    "import seaborn as sns\n",
    "import numpy as np\n",
    "import implicit\n",
    "import scipy.sparse as sparse\n",
    "import matplotlib.pyplot as plt\n",
    "import json\n",
    "from IPython.display import display\n",
    "from time import time\n",
    "from sklearn.metrics import pairwise_distances\n",
    "from sklearn.decomposition import PCA\n",
    "\n",
    "\n",
    "%matplotlib inline\n",
    "sns.set(style='whitegrid')\n",
    "sns.set(rc={'figure.figsize':(14, 10)})"
   ],
   "outputs": [],
   "metadata": {}
  },
  {
   "cell_type": "markdown",
   "source": [
    "Luego se lee el dataset de training y se carga en un DataFrame, binarizando el rating para ignorar aquellos animes que recibieron un rating bajo:"
   ],
   "metadata": {}
  },
  {
   "cell_type": "code",
   "execution_count": 2,
   "source": [
    "df_train = pd.read_csv('datasets/train.csv', sep=',')\n",
    "df_train.rating = [1 if x >= 7 else 0 for x in df_train.rating]  # Consider relevant if rating >= 7\n",
    "df_train.head()"
   ],
   "outputs": [
    {
     "output_type": "execute_result",
     "data": {
      "text/html": [
       "<div>\n",
       "<style scoped>\n",
       "    .dataframe tbody tr th:only-of-type {\n",
       "        vertical-align: middle;\n",
       "    }\n",
       "\n",
       "    .dataframe tbody tr th {\n",
       "        vertical-align: top;\n",
       "    }\n",
       "\n",
       "    .dataframe thead th {\n",
       "        text-align: right;\n",
       "    }\n",
       "</style>\n",
       "<table border=\"1\" class=\"dataframe\">\n",
       "  <thead>\n",
       "    <tr style=\"text-align: right;\">\n",
       "      <th></th>\n",
       "      <th>user_id</th>\n",
       "      <th>anime_id</th>\n",
       "      <th>rating</th>\n",
       "    </tr>\n",
       "  </thead>\n",
       "  <tbody>\n",
       "    <tr>\n",
       "      <th>0</th>\n",
       "      <td>290025</td>\n",
       "      <td>36793</td>\n",
       "      <td>1</td>\n",
       "    </tr>\n",
       "    <tr>\n",
       "      <th>1</th>\n",
       "      <td>166392</td>\n",
       "      <td>30123</td>\n",
       "      <td>1</td>\n",
       "    </tr>\n",
       "    <tr>\n",
       "      <th>2</th>\n",
       "      <td>57349</td>\n",
       "      <td>16774</td>\n",
       "      <td>1</td>\n",
       "    </tr>\n",
       "    <tr>\n",
       "      <th>3</th>\n",
       "      <td>147605</td>\n",
       "      <td>22763</td>\n",
       "      <td>1</td>\n",
       "    </tr>\n",
       "    <tr>\n",
       "      <th>4</th>\n",
       "      <td>16310</td>\n",
       "      <td>15699</td>\n",
       "      <td>0</td>\n",
       "    </tr>\n",
       "  </tbody>\n",
       "</table>\n",
       "</div>"
      ],
      "text/plain": [
       "   user_id  anime_id  rating\n",
       "0   290025     36793       1\n",
       "1   166392     30123       1\n",
       "2    57349     16774       1\n",
       "3   147605     22763       1\n",
       "4    16310     15699       0"
      ]
     },
     "metadata": {},
     "execution_count": 2
    }
   ],
   "metadata": {}
  },
  {
   "cell_type": "markdown",
   "source": [
    "Lo mismo para el dataset de validation:"
   ],
   "metadata": {}
  },
  {
   "cell_type": "code",
   "execution_count": 3,
   "source": [
    "df_val = pd.read_csv('datasets/val.csv', sep=',')\n",
    "df_val.rating = [1 if x >= 7 else 0 for x in df_val.rating]  # Consider relevant if rating >= 7\n",
    "df_val.head()"
   ],
   "outputs": [
    {
     "output_type": "execute_result",
     "data": {
      "text/html": [
       "<div>\n",
       "<style scoped>\n",
       "    .dataframe tbody tr th:only-of-type {\n",
       "        vertical-align: middle;\n",
       "    }\n",
       "\n",
       "    .dataframe tbody tr th {\n",
       "        vertical-align: top;\n",
       "    }\n",
       "\n",
       "    .dataframe thead th {\n",
       "        text-align: right;\n",
       "    }\n",
       "</style>\n",
       "<table border=\"1\" class=\"dataframe\">\n",
       "  <thead>\n",
       "    <tr style=\"text-align: right;\">\n",
       "      <th></th>\n",
       "      <th>user_id</th>\n",
       "      <th>anime_id</th>\n",
       "      <th>rating</th>\n",
       "    </tr>\n",
       "  </thead>\n",
       "  <tbody>\n",
       "    <tr>\n",
       "      <th>0</th>\n",
       "      <td>50106</td>\n",
       "      <td>28883</td>\n",
       "      <td>1</td>\n",
       "    </tr>\n",
       "    <tr>\n",
       "      <th>1</th>\n",
       "      <td>100033</td>\n",
       "      <td>8514</td>\n",
       "      <td>0</td>\n",
       "    </tr>\n",
       "    <tr>\n",
       "      <th>2</th>\n",
       "      <td>301396</td>\n",
       "      <td>1726</td>\n",
       "      <td>0</td>\n",
       "    </tr>\n",
       "    <tr>\n",
       "      <th>3</th>\n",
       "      <td>324857</td>\n",
       "      <td>853</td>\n",
       "      <td>1</td>\n",
       "    </tr>\n",
       "    <tr>\n",
       "      <th>4</th>\n",
       "      <td>144230</td>\n",
       "      <td>31442</td>\n",
       "      <td>0</td>\n",
       "    </tr>\n",
       "  </tbody>\n",
       "</table>\n",
       "</div>"
      ],
      "text/plain": [
       "   user_id  anime_id  rating\n",
       "0    50106     28883       1\n",
       "1   100033      8514       0\n",
       "2   301396      1726       0\n",
       "3   324857       853       1\n",
       "4   144230     31442       0"
      ]
     },
     "metadata": {},
     "execution_count": 3
    }
   ],
   "metadata": {}
  },
  {
   "cell_type": "markdown",
   "source": [
    "Y para el dataset de testing:"
   ],
   "metadata": {}
  },
  {
   "cell_type": "code",
   "execution_count": 4,
   "source": [
    "df_test = pd.read_csv('datasets/test_users.csv', sep=',')\n",
    "df_test = df_test.drop('Unnamed: 0', axis=1)\n",
    "df_test.head()"
   ],
   "outputs": [
    {
     "output_type": "execute_result",
     "data": {
      "text/html": [
       "<div>\n",
       "<style scoped>\n",
       "    .dataframe tbody tr th:only-of-type {\n",
       "        vertical-align: middle;\n",
       "    }\n",
       "\n",
       "    .dataframe tbody tr th {\n",
       "        vertical-align: top;\n",
       "    }\n",
       "\n",
       "    .dataframe thead th {\n",
       "        text-align: right;\n",
       "    }\n",
       "</style>\n",
       "<table border=\"1\" class=\"dataframe\">\n",
       "  <thead>\n",
       "    <tr style=\"text-align: right;\">\n",
       "      <th></th>\n",
       "      <th>user_id</th>\n",
       "    </tr>\n",
       "  </thead>\n",
       "  <tbody>\n",
       "    <tr>\n",
       "      <th>0</th>\n",
       "      <td>125862</td>\n",
       "    </tr>\n",
       "    <tr>\n",
       "      <th>1</th>\n",
       "      <td>246612</td>\n",
       "    </tr>\n",
       "    <tr>\n",
       "      <th>2</th>\n",
       "      <td>925</td>\n",
       "    </tr>\n",
       "    <tr>\n",
       "      <th>3</th>\n",
       "      <td>136160</td>\n",
       "    </tr>\n",
       "    <tr>\n",
       "      <th>4</th>\n",
       "      <td>174689</td>\n",
       "    </tr>\n",
       "  </tbody>\n",
       "</table>\n",
       "</div>"
      ],
      "text/plain": [
       "   user_id\n",
       "0   125862\n",
       "1   246612\n",
       "2      925\n",
       "3   136160\n",
       "4   174689"
      ]
     },
     "metadata": {},
     "execution_count": 4
    }
   ],
   "metadata": {}
  },
  {
   "cell_type": "markdown",
   "source": [
    "Además, cargamos un dataset que contiene información adicional sobre cada anime:"
   ],
   "metadata": {}
  },
  {
   "cell_type": "code",
   "execution_count": 5,
   "source": [
    "df_info = pd.read_pickle('datasets/anime_info.pkl')"
   ],
   "outputs": [],
   "metadata": {}
  },
  {
   "cell_type": "markdown",
   "source": [
    "Para evaluar el rendimiento en ciertos métodos de recomendación, se definen funciones auxiliares que calculan las métricas MAP y nDCG:"
   ],
   "metadata": {}
  },
  {
   "cell_type": "code",
   "execution_count": 6,
   "source": [
    "# Eval metrics\n",
    "# From: https://gist.github.com/bwhite/3726239\n",
    "\n",
    "def precision_at_k(r, k):\n",
    "    assert k >= 1\n",
    "    r = np.asarray(r)[:k] != 0\n",
    "    if r.size != k:\n",
    "        raise ValueError('Relevance score length < k')\n",
    "    return np.mean(r)\n",
    "\n",
    "def average_precision(r):\n",
    "    r = np.asarray(r) != 0\n",
    "    out = [precision_at_k(r, k + 1) for k in range(r.size) if r[k]]\n",
    "    if not out:\n",
    "        return 0.\n",
    "    return np.mean(out)\n",
    "\n",
    "def mean_average_precision(rs):\n",
    "    return np.mean([average_precision(r) for r in rs])\n",
    "\n",
    "def dcg_at_k(r, k):\n",
    "    r = np.asfarray(r)[:k]\n",
    "    if r.size:\n",
    "        return np.sum(np.subtract(np.power(2, r), 1) / np.log2(np.arange(2, r.size + 2)))\n",
    "    return 0.\n",
    "\n",
    "def ndcg_at_k(r, k):\n",
    "    idcg = dcg_at_k(sorted(r, reverse=True), k)\n",
    "    if not idcg:\n",
    "        return 0.\n",
    "    return dcg_at_k(r, k) / idcg"
   ],
   "outputs": [],
   "metadata": {}
  },
  {
   "cell_type": "markdown",
   "source": [
    "# Actividad 1"
   ],
   "metadata": {}
  },
  {
   "cell_type": "markdown",
   "source": [
    "Para encontrar la distribución del número de interacciones por usuario, obtenemos la cantidad de interacciones por usuario y luego agrupamos a los usuarios que tienen una actividad similar, representado como un histograma:"
   ],
   "metadata": {}
  },
  {
   "cell_type": "code",
   "execution_count": 7,
   "source": [
    "users = df_train['user_id']\n",
    "user_counts = users.value_counts().to_list()\n",
    "user_interactions, user_bins = np.histogram(user_counts, bins=15)\n",
    "user_bins = user_bins.round().astype(int)[:-1]\n",
    "ax = sns.barplot(x=user_bins, y=user_interactions, palette='Blues_d')\n",
    "ax.set(title='User Interactions', xlabel='Animes Watched', ylabel='Number of Users')\n",
    "plt.show()"
   ],
   "outputs": [
    {
     "output_type": "display_data",
     "data": {
      "image/png": "[encoded data removed]",
      "text/plain": [
       "<Figure size 1008x720 with 1 Axes>"
      ]
     },
     "metadata": {}
    }
   ],
   "metadata": {}
  },
  {
   "cell_type": "markdown",
   "source": [
    "Se obtienen los 5 usuarios más activos según su cantidad de interacciones:"
   ],
   "metadata": {}
  },
  {
   "cell_type": "code",
   "execution_count": 8,
   "source": [
    "top_users = users.value_counts()[:5]\n",
    "print('Usuarios más activos:')\n",
    "print('user_id  n_interactions')\n",
    "print(top_users)\n",
    "print(f'\\nPorcentaje atribuido a los 5 usuarios más activos: {100 * top_users.sum() / users.count()} %')"
   ],
   "outputs": [
    {
     "output_type": "stream",
     "name": "stdout",
     "text": [
      "Usuarios más activos:\n",
      "user_id  n_interactions\n",
      "297988    134\n",
      "469       131\n",
      "214484    129\n",
      "6088      129\n",
      "131228    128\n",
      "Name: user_id, dtype: int64\n",
      "\n",
      "Porcentaje atribuido a los 5 usuarios más activos: 0.04413394754771856 %\n"
     ]
    }
   ],
   "metadata": {}
  },
  {
   "cell_type": "markdown",
   "source": [
    "Para la distribución de interacciones por anime, se obtiene la cantidad de usuarios que han visto cada uno, y luego se agrupan según cantidad de usuarios similar. El resultado es el siguiente histograma:"
   ],
   "metadata": {}
  },
  {
   "cell_type": "code",
   "execution_count": 9,
   "source": [
    "animes = df_train['anime_id']\n",
    "anime_counts = animes.value_counts().to_list()\n",
    "anime_interactions, anime_bins = np.histogram(anime_counts, bins=15)\n",
    "anime_bins = anime_bins.round().astype(int)[:-1]\n",
    "ax = sns.barplot(x=anime_bins, y=anime_interactions, label='Total', palette='Reds_d')\n",
    "ax.set(title='Anime Interactions', xlabel='Number of Viewers', ylabel='Number of Animes')\n",
    "plt.show()"
   ],
   "outputs": [
    {
     "output_type": "display_data",
     "data": {
      "image/png": "[encoded data removed]",
      "text/plain": [
       "<Figure size 1008x720 with 1 Axes>"
      ]
     },
     "metadata": {}
    }
   ],
   "metadata": {}
  },
  {
   "cell_type": "markdown",
   "source": [
    "Se obtienen los 5 animes más populares, junto a sus nombres:"
   ],
   "metadata": {}
  },
  {
   "cell_type": "code",
   "execution_count": 10,
   "source": [
    "top_animes = animes.value_counts()[:5]\n",
    "top_ids = top_animes.keys().to_list()\n",
    "top_anime_info = df_info[df_info['anime_id'].isin(top_ids)][['anime_id', 'Name']]\n",
    "print('Animes más vistos:')\n",
    "display(top_anime_info.style.hide_index())\n",
    "print(f'\\nPorcentaje atribuido a los 5 animes más vistos: {100 * top_animes.sum() / animes.count()} %')"
   ],
   "outputs": [
    {
     "output_type": "stream",
     "name": "stdout",
     "text": [
      "Animes más vistos:\n"
     ]
    },
    {
     "output_type": "display_data",
     "data": {
      "text/html": [
       "<style type=\"text/css\">\n",
       "</style>\n",
       "<table id=\"T_c7a6a_\">\n",
       "  <thead>\n",
       "    <tr>\n",
       "      <th class=\"col_heading level0 col0\" >anime_id</th>\n",
       "      <th class=\"col_heading level0 col1\" >Name</th>\n",
       "    </tr>\n",
       "  </thead>\n",
       "  <tbody>\n",
       "    <tr>\n",
       "      <td id=\"T_c7a6a_row0_col0\" class=\"data row0 col0\" >1535</td>\n",
       "      <td id=\"T_c7a6a_row0_col1\" class=\"data row0 col1\" >Death Note</td>\n",
       "    </tr>\n",
       "    <tr>\n",
       "      <td id=\"T_c7a6a_row1_col0\" class=\"data row1 col0\" >6547</td>\n",
       "      <td id=\"T_c7a6a_row1_col1\" class=\"data row1 col1\" >Angel Beats!</td>\n",
       "    </tr>\n",
       "    <tr>\n",
       "      <td id=\"T_c7a6a_row2_col0\" class=\"data row2 col0\" >11757</td>\n",
       "      <td id=\"T_c7a6a_row2_col1\" class=\"data row2 col1\" >Sword Art Online</td>\n",
       "    </tr>\n",
       "    <tr>\n",
       "      <td id=\"T_c7a6a_row3_col0\" class=\"data row3 col0\" >16498</td>\n",
       "      <td id=\"T_c7a6a_row3_col1\" class=\"data row3 col1\" >Shingeki no Kyojin</td>\n",
       "    </tr>\n",
       "    <tr>\n",
       "      <td id=\"T_c7a6a_row4_col0\" class=\"data row4 col0\" >19815</td>\n",
       "      <td id=\"T_c7a6a_row4_col1\" class=\"data row4 col1\" >No Game No Life</td>\n",
       "    </tr>\n",
       "  </tbody>\n",
       "</table>\n"
      ],
      "text/plain": [
       "<pandas.io.formats.style.Styler at 0x7fdfec600a00>"
      ]
     },
     "metadata": {}
    },
    {
     "output_type": "stream",
     "name": "stdout",
     "text": [
      "\n",
      "Porcentaje atribuido a los 5 animes más vistos: 1.0080302090430526 %\n"
     ]
    }
   ],
   "metadata": {}
  },
  {
   "cell_type": "markdown",
   "source": [
    "Para terminar con la exploración de los datos, se genera una tabla resumen con la cantidad de usuarios y animes, promedios y desviación estándar de animes/usuarios por usuario/anime, así como la densidad del dataset:"
   ],
   "metadata": {}
  },
  {
   "cell_type": "code",
   "execution_count": 11,
   "source": [
    "n_users = len(users.value_counts())\n",
    "n_animes = len(animes.value_counts())\n",
    "avg_users = users.value_counts().mean()\n",
    "std_users = users.value_counts().std()\n",
    "avg_animes = animes.value_counts().mean()\n",
    "std_animes = animes.value_counts().std()\n",
    "density = len(df_train) / (n_users * n_animes)\n",
    "sparsity = 1 - density"
   ],
   "outputs": [],
   "metadata": {}
  },
  {
   "cell_type": "code",
   "execution_count": 12,
   "source": [
    "stats = pd.DataFrame([(n_users, n_animes, avg_users, std_users, avg_animes, std_animes, density * 100, sparsity * 100)],\n",
    "    columns=['n_users', 'n_items', 'avg_animes_by_user', 'std_animes_by_user',\n",
    "            'avg_users_by_anime', 'std_users_by_anime', 'density (%)', 'sparsity (%)'])\n",
    "stats.style.hide_index()"
   ],
   "outputs": [
    {
     "output_type": "execute_result",
     "data": {
      "text/html": [
       "<style type=\"text/css\">\n",
       "</style>\n",
       "<table id=\"T_08644_\">\n",
       "  <thead>\n",
       "    <tr>\n",
       "      <th class=\"col_heading level0 col0\" >n_users</th>\n",
       "      <th class=\"col_heading level0 col1\" >n_items</th>\n",
       "      <th class=\"col_heading level0 col2\" >avg_animes_by_user</th>\n",
       "      <th class=\"col_heading level0 col3\" >std_animes_by_user</th>\n",
       "      <th class=\"col_heading level0 col4\" >avg_users_by_anime</th>\n",
       "      <th class=\"col_heading level0 col5\" >std_users_by_anime</th>\n",
       "      <th class=\"col_heading level0 col6\" >density (%)</th>\n",
       "      <th class=\"col_heading level0 col7\" >sparsity (%)</th>\n",
       "    </tr>\n",
       "  </thead>\n",
       "  <tbody>\n",
       "    <tr>\n",
       "      <td id=\"T_08644_row0_col0\" class=\"data row0 col0\" >18552</td>\n",
       "      <td id=\"T_08644_row0_col1\" class=\"data row0 col1\" >2326</td>\n",
       "      <td id=\"T_08644_row0_col2\" class=\"data row0 col2\" >79.509217</td>\n",
       "      <td id=\"T_08644_row0_col3\" class=\"data row0 col3\" >13.701655</td>\n",
       "      <td id=\"T_08644_row0_col4\" class=\"data row0 col4\" >634.159501</td>\n",
       "      <td id=\"T_08644_row0_col5\" class=\"data row0 col5\" >513.600988</td>\n",
       "      <td id=\"T_08644_row0_col6\" class=\"data row0 col6\" >3.418281</td>\n",
       "      <td id=\"T_08644_row0_col7\" class=\"data row0 col7\" >96.581719</td>\n",
       "    </tr>\n",
       "  </tbody>\n",
       "</table>\n"
      ],
      "text/plain": [
       "<pandas.io.formats.style.Styler at 0x7fdfec2a09d0>"
      ]
     },
     "metadata": {},
     "execution_count": 12
    }
   ],
   "metadata": {}
  },
  {
   "cell_type": "markdown",
   "source": [
    "# Actividad 2"
   ],
   "metadata": {}
  },
  {
   "cell_type": "markdown",
   "source": [
    "Se comienza entrenando el modelo Most Popular sobre el dataset de training:"
   ],
   "metadata": {}
  },
  {
   "cell_type": "code",
   "execution_count": 13,
   "source": [
    "most_popular = pyreclab.MostPopular(dataset='datasets/train.csv',\n",
    "                                    dlmchar=b',',\n",
    "                                    header=True,\n",
    "                                    usercol=0,\n",
    "                                    itemcol=1,\n",
    "                                    ratingcol=2)\n",
    "most_popular.train()"
   ],
   "outputs": [],
   "metadata": {}
  },
  {
   "cell_type": "markdown",
   "source": [
    "Ahora se evalúa sobre el de validación, entregando 30 recomendaciones para cada usuario:"
   ],
   "metadata": {}
  },
  {
   "cell_type": "code",
   "execution_count": 14,
   "source": [
    "top_n = 30\n",
    "\n",
    "recommendList, maprec, ndcg = most_popular.testrec(input_file='datasets/val.csv',\n",
    "                                            dlmchar=b',',\n",
    "                                            header=True,\n",
    "                                            usercol=0,\n",
    "                                            itemcol=1,\n",
    "                                            ratingcol=2,\n",
    "                                            topn=top_n,\n",
    "                                            relevance_threshold=7,\n",
    "                                            includeRated=False)\n",
    "\n",
    "print('Most Popular')\n",
    "print(f'MAP@{top_n}: {maprec}\\nNDCG@{top_n}: {ndcg}')"
   ],
   "outputs": [
    {
     "output_type": "stream",
     "name": "stdout",
     "text": [
      "Most Popular\n",
      "MAP@30: 0.013672311785931094\n",
      "NDCG@30: 0.021628328883578216\n"
     ]
    }
   ],
   "metadata": {}
  },
  {
   "cell_type": "markdown",
   "source": [
    "Para probar el recomendador aleatorio, definimos una función que entrega y evalúa n animes al azar, tales que el usuario no los haya visto:"
   ],
   "metadata": {}
  },
  {
   "cell_type": "code",
   "execution_count": 23,
   "source": [
    "def random_rec_test(train_data, test_data, top_n):\n",
    "    users = test_data['user_id'].value_counts().keys().to_list()\n",
    "    animes = set(train_data['anime_id'].value_counts().keys().to_list())\n",
    "    mean_map = 0.\n",
    "    mean_ndcg = 0.\n",
    "    valid_users = 0\n",
    "    for user in users:\n",
    "        user_animes = test_data[(test_data['user_id'] == user) & (test_data['rating'] == 1)]['anime_id'].to_list()\n",
    "        if user_animes:\n",
    "            valid_users += 1\n",
    "            not_watched = list(animes - set(train_data[train_data['user_id'] == user]['anime_id'].value_counts().keys().to_list()))\n",
    "            random_ranking = np.random.choice(not_watched, size=top_n)\n",
    "            rel_vector = [np.isin(random_ranking, user_animes, assume_unique=True).astype(int)]\n",
    "            mean_map += mean_average_precision(rel_vector)\n",
    "            mean_ndcg += ndcg_at_k(rel_vector[0], top_n)\n",
    "    mean_map /= valid_users\n",
    "    mean_ndcg /= valid_users\n",
    "    return mean_map, mean_ndcg"
   ],
   "outputs": [],
   "metadata": {}
  },
  {
   "cell_type": "markdown",
   "source": [
    "Por temas de estabilidad, se saca el promedio del recomendador random tras 3 iteraciones:"
   ],
   "metadata": {}
  },
  {
   "cell_type": "code",
   "execution_count": 24,
   "source": [
    "random_results = []\n",
    "for i in range(3):\n",
    "    rand_maprec, rand_ndcg = random_rec_test(df_train, df_val, top_n)\n",
    "    random_results.append((rand_maprec, rand_ndcg))\n",
    "\n",
    "print('Random')\n",
    "print(f'MAP@{top_n}: {round(sum([r[0] for r in random_results]) / 3, 5)}\\nNDCG@{top_n}: {round(sum([r[1] for r in random_results]) / 3, 5)}')"
   ],
   "outputs": [
    {
     "output_type": "stream",
     "name": "stdout",
     "text": [
      "Random\n",
      "MAP@30: 0.00301\n",
      "NDCG@30: 0.00704\n"
     ]
    }
   ],
   "metadata": {}
  },
  {
   "cell_type": "markdown",
   "source": [
    "# Actividad 3"
   ],
   "metadata": {}
  },
  {
   "cell_type": "markdown",
   "source": [
    "Primero debemos almacenar los animes vistos por cada usuario dentro del set de validación:"
   ],
   "metadata": {}
  },
  {
   "cell_type": "code",
   "execution_count": 7,
   "source": [
    "user_items_val = {}\n",
    "for row in df_val.itertuples():\n",
    "    if row[1] not in user_items_val:\n",
    "        user_items_val[row[1]] = []\n",
    "    if row[3] == 1:  # Relevant anime\n",
    "        user_items_val[row[1]].append(row[2])"
   ],
   "outputs": [],
   "metadata": {}
  },
  {
   "cell_type": "markdown",
   "source": [
    "Ahora se hace lo mismo para el set de training, lo que nos permite generar la matriz de interacciones entre usuarios y animes:"
   ],
   "metadata": {}
  },
  {
   "cell_type": "code",
   "execution_count": 8,
   "source": [
    "user_items = {}\n",
    "itemset = set()\n",
    "\n",
    "for row in df_train.itertuples():\n",
    "    if row[1] not in user_items:\n",
    "        user_items[row[1]] = []\n",
    "    itemset.add(row[2])\n",
    "    if row[3] == 1:  # Relevant anime\n",
    "        user_items[row[1]].append(row[2])\n",
    "\n",
    "itemset = np.sort(list(itemset))\n",
    "\n",
    "sparse_matrix = np.zeros((len(user_items), len(itemset)))\n",
    "\n",
    "for i, items in enumerate(user_items.values()):\n",
    "    sparse_matrix[i] = np.isin(itemset, items, assume_unique=True).astype(int)\n",
    "\n",
    "matrix = sparse.csr_matrix(sparse_matrix.T)\n",
    "user_ids = {key: i for i, key in enumerate(user_items.keys())}\n",
    "user_item_matrix = matrix.T.tocsr()"
   ],
   "outputs": [],
   "metadata": {}
  },
  {
   "cell_type": "markdown",
   "source": [
    "Definimos funciones para evaluar el rendimiento de modelos de feedback implícito:"
   ],
   "metadata": {}
  },
  {
   "cell_type": "code",
   "execution_count": 32,
   "source": [
    "def evaluate_implicit(test_set, user_ids, user_item_matrix, model, n):\n",
    "    mean_map = 0.\n",
    "    mean_ndcg = 0.\n",
    "    valid_users = 0\n",
    "    for u in test_set.keys():\n",
    "        if test_set[u]:\n",
    "            valid_users += 1\n",
    "            rec = [itemset[t[0]] for t in model.recommend(user_ids[u], user_item_matrix, n)]\n",
    "            rel_vector = [np.isin(rec, test_set[u], assume_unique=True).astype(int)]\n",
    "            mean_map += mean_average_precision(rel_vector)\n",
    "            mean_ndcg += ndcg_at_k(rel_vector[0], n)\n",
    "    mean_map /= valid_users\n",
    "    mean_ndcg /= valid_users\n",
    "    return mean_map, mean_ndcg\n",
    "\n",
    "def train_and_test(model, model_name, *args):\n",
    "    matrix, f, user_items_val, user_ids, user_item_matrix, top_n = args\n",
    "    start = time()\n",
    "    model.fit(matrix)\n",
    "    end = time()\n",
    "    print(f'Training Time with {model_name} ({f} factors): {round(end - start, 2)} seconds')\n",
    "    implicit_maprec, implicit_ndcg = evaluate_implicit(user_items_val, user_ids, user_item_matrix, model, n=top_n)\n",
    "    print(f'MAP@{top_n}: {implicit_maprec}\\nNDCG@{top_n}: {implicit_ndcg}')\n",
    "    return round(end - start, 2), (implicit_maprec, implicit_ndcg)"
   ],
   "outputs": [],
   "metadata": {}
  },
  {
   "cell_type": "markdown",
   "source": [
    "Se realiza el análisis de sensibilidad sobre el set de validación, variando la cantidad de factores latentes:"
   ],
   "metadata": {}
  },
  {
   "cell_type": "code",
   "execution_count": 33,
   "source": [
    "top_n = 10\n",
    "factor_values = (50, 100, 200, 500, 1000)\n",
    "training_times = {'ALS': [], 'BPR': []}\n",
    "performance_values = {'ALS': [], 'BPR': []}\n",
    "for f in factor_values:\n",
    "    als = implicit.als.AlternatingLeastSquares(factors=f, use_gpu=False)\n",
    "    als_time, als_performance = train_and_test(als, 'ALS', matrix, f, user_items_val, user_ids, user_item_matrix, top_n)\n",
    "    training_times['ALS'].append(als_time)\n",
    "    performance_values['ALS'].append(als_performance)\n",
    "    bpr = implicit.bpr.BayesianPersonalizedRanking(factors=f, use_gpu=False)\n",
    "    bpr_time, bpr_performance = train_and_test(bpr, 'BPR', matrix, f, user_items_val, user_ids, user_item_matrix, top_n)\n",
    "    training_times['BPR'].append(bpr_time)\n",
    "    performance_values['BPR'].append(bpr_performance)"
   ],
   "outputs": [
    {
     "output_type": "stream",
     "name": "stderr",
     "text": [
      "100%|██████████| 15/15 [00:09<00:00,  1.66it/s]\n"
     ]
    },
    {
     "output_type": "stream",
     "name": "stdout",
     "text": [
      "Training Time with ALS (50 factors): 9.07 seconds\n",
      "MAP@10: 0.015845018341024714\n",
      "NDCG@10: 0.023522990938914044\n"
     ]
    },
    {
     "output_type": "stream",
     "name": "stderr",
     "text": [
      "100%|██████████| 100/100 [00:13<00:00,  7.28it/s, train_auc=86.55%, skipped=5.32%]\n"
     ]
    },
    {
     "output_type": "stream",
     "name": "stdout",
     "text": [
      "Training Time with BPR (50 factors): 13.77 seconds\n",
      "MAP@10: 0.010874965889799294\n",
      "NDCG@10: 0.016657777483056947\n"
     ]
    },
    {
     "output_type": "stream",
     "name": "stderr",
     "text": [
      "100%|██████████| 15/15 [00:08<00:00,  1.73it/s]\n"
     ]
    },
    {
     "output_type": "stream",
     "name": "stdout",
     "text": [
      "Training Time with ALS (100 factors): 8.69 seconds\n",
      "MAP@10: 0.014178765222809007\n",
      "NDCG@10: 0.021415649877264218\n"
     ]
    },
    {
     "output_type": "stream",
     "name": "stderr",
     "text": [
      "100%|██████████| 100/100 [00:16<00:00,  5.91it/s, train_auc=90.37%, skipped=5.38%]\n"
     ]
    },
    {
     "output_type": "stream",
     "name": "stdout",
     "text": [
      "Training Time with BPR (100 factors): 16.97 seconds\n",
      "MAP@10: 0.009991783365813488\n",
      "NDCG@10: 0.015801919936880383\n"
     ]
    },
    {
     "output_type": "stream",
     "name": "stderr",
     "text": [
      "100%|██████████| 15/15 [00:13<00:00,  1.10it/s]\n"
     ]
    },
    {
     "output_type": "stream",
     "name": "stdout",
     "text": [
      "Training Time with ALS (200 factors): 13.69 seconds\n",
      "MAP@10: 0.013676500063994337\n",
      "NDCG@10: 0.020419302667367332\n"
     ]
    },
    {
     "output_type": "stream",
     "name": "stderr",
     "text": [
      "100%|██████████| 100/100 [00:20<00:00,  4.90it/s, train_auc=91.96%, skipped=5.38%]\n"
     ]
    },
    {
     "output_type": "stream",
     "name": "stdout",
     "text": [
      "Training Time with BPR (200 factors): 20.48 seconds\n",
      "MAP@10: 0.009513229324388616\n",
      "NDCG@10: 0.014970189071742647\n"
     ]
    },
    {
     "output_type": "stream",
     "name": "stderr",
     "text": [
      "100%|██████████| 15/15 [00:27<00:00,  1.86s/it]\n"
     ]
    },
    {
     "output_type": "stream",
     "name": "stdout",
     "text": [
      "Training Time with ALS (500 factors): 28.13 seconds\n",
      "MAP@10: 0.011069620428931243\n",
      "NDCG@10: 0.01608435092799242\n"
     ]
    },
    {
     "output_type": "stream",
     "name": "stderr",
     "text": [
      "100%|██████████| 100/100 [00:39<00:00,  2.56it/s, train_auc=91.60%, skipped=5.35%]\n"
     ]
    },
    {
     "output_type": "stream",
     "name": "stdout",
     "text": [
      "Training Time with BPR (500 factors): 39.19 seconds\n",
      "MAP@10: 0.010702301865012953\n",
      "NDCG@10: 0.016194737889534325\n"
     ]
    },
    {
     "output_type": "stream",
     "name": "stderr",
     "text": [
      "100%|██████████| 15/15 [01:10<00:00,  4.72s/it]\n"
     ]
    },
    {
     "output_type": "stream",
     "name": "stdout",
     "text": [
      "Training Time with ALS (1000 factors): 71.03 seconds\n",
      "MAP@10: 0.009391836251717585\n",
      "NDCG@10: 0.013562244851667753\n"
     ]
    },
    {
     "output_type": "stream",
     "name": "stderr",
     "text": [
      "100%|██████████| 100/100 [01:11<00:00,  1.40it/s, train_auc=90.63%, skipped=5.32%]\n"
     ]
    },
    {
     "output_type": "stream",
     "name": "stdout",
     "text": [
      "Training Time with BPR (1000 factors): 71.6 seconds\n",
      "MAP@10: 0.010263034926430636\n",
      "NDCG@10: 0.01570872195662071\n"
     ]
    }
   ],
   "metadata": {}
  },
  {
   "cell_type": "markdown",
   "source": [
    "Se reportan los tiempos de entrenamiento:"
   ],
   "metadata": {}
  },
  {
   "cell_type": "code",
   "execution_count": 34,
   "source": [
    "print(training_times)"
   ],
   "outputs": [
    {
     "output_type": "stream",
     "name": "stdout",
     "text": [
      "{'ALS': [9.07, 8.69, 13.69, 28.13, 71.03], 'BPR': [13.77, 16.97, 20.48, 39.19, 71.6]}\n"
     ]
    }
   ],
   "metadata": {}
  },
  {
   "cell_type": "markdown",
   "source": [
    "A continuación se puede visualizar el rendimiento de ALS según cantidad de factores latentes:"
   ],
   "metadata": {}
  },
  {
   "cell_type": "code",
   "execution_count": 35,
   "source": [
    "als_values = []\n",
    "for r in performance_values['ALS']:\n",
    "    als_values += [r[0], r[1]]\n",
    "als_data = pd.DataFrame({'factors': [50, 50, 100, 100, 200, 200, 500, 500, 1000, 1000], 'Metric': 5 * ['MAP@10', 'nDCG@10'], 'values': als_values})\n",
    "ax = sns.catplot(x='factors', y='values', data=als_data, hue='Metric', kind='bar', palette='Reds_d', height=6, aspect=1.5)\n",
    "ax.set(title='ALS Performance by Number of Factors', xlabel='Number of Factors', ylabel='Metric Value')\n",
    "plt.show()"
   ],
   "outputs": [
    {
     "output_type": "display_data",
     "data": {
      "image/png": "[encoded data removed]",
      "text/plain": [
       "<Figure size 744.225x432 with 1 Axes>"
      ]
     },
     "metadata": {}
    }
   ],
   "metadata": {}
  },
  {
   "cell_type": "markdown",
   "source": [
    "También se puede visualizar el rendimiento de BPR según la misma variación:"
   ],
   "metadata": {}
  },
  {
   "cell_type": "code",
   "execution_count": 36,
   "source": [
    "bpr_values = []\n",
    "for r in performance_values['BPR']:\n",
    "    bpr_values += [r[0], r[1]]\n",
    "bpr_data = pd.DataFrame({'factors': [50, 50, 100, 100, 200, 200, 500, 500, 1000, 1000], 'Metric': 5 * ['MAP@10', 'nDCG@10'], 'values': bpr_values})\n",
    "ax = sns.catplot(x='factors', y='values', data=bpr_data, hue='Metric', kind='bar', palette='Blues_d', height=6, aspect=1.5)\n",
    "ax.set(title='BPR Performance by Number of Factors', xlabel='Number of Factors', ylabel='Metric Value')\n",
    "plt.show()"
   ],
   "outputs": [
    {
     "output_type": "display_data",
     "data": {
      "image/png": "[encoded data removed]",
      "text/plain": [
       "<Figure size 744.225x432 with 1 Axes>"
      ]
     },
     "metadata": {}
    }
   ],
   "metadata": {}
  },
  {
   "cell_type": "markdown",
   "source": [
    "# Actividad 4"
   ],
   "metadata": {}
  },
  {
   "cell_type": "markdown",
   "source": [
    "Para obtener los embeddings debemos cargar el dataset de información de los animes:"
   ],
   "metadata": {}
  },
  {
   "cell_type": "code",
   "execution_count": 37,
   "source": [
    "reduced_info = df_info[['anime_id', 'content_embeddings']]\n",
    "reduced_info"
   ],
   "outputs": [
    {
     "output_type": "execute_result",
     "data": {
      "text/html": [
       "<div>\n",
       "<style scoped>\n",
       "    .dataframe tbody tr th:only-of-type {\n",
       "        vertical-align: middle;\n",
       "    }\n",
       "\n",
       "    .dataframe tbody tr th {\n",
       "        vertical-align: top;\n",
       "    }\n",
       "\n",
       "    .dataframe thead th {\n",
       "        text-align: right;\n",
       "    }\n",
       "</style>\n",
       "<table border=\"1\" class=\"dataframe\">\n",
       "  <thead>\n",
       "    <tr style=\"text-align: right;\">\n",
       "      <th></th>\n",
       "      <th>anime_id</th>\n",
       "      <th>content_embeddings</th>\n",
       "    </tr>\n",
       "  </thead>\n",
       "  <tbody>\n",
       "    <tr>\n",
       "      <th>0</th>\n",
       "      <td>1</td>\n",
       "      <td>[-0.033500284, 0.03323533, 0.034192204, -0.049...</td>\n",
       "    </tr>\n",
       "    <tr>\n",
       "      <th>1</th>\n",
       "      <td>5</td>\n",
       "      <td>[-0.035846457, 0.022955496, 0.012560053, -0.03...</td>\n",
       "    </tr>\n",
       "    <tr>\n",
       "      <th>2</th>\n",
       "      <td>6</td>\n",
       "      <td>[0.051486682, -0.060088806, -0.029781044, -0.0...</td>\n",
       "    </tr>\n",
       "    <tr>\n",
       "      <th>3</th>\n",
       "      <td>7</td>\n",
       "      <td>[-0.0076218257, -0.026781121, 0.05598651, 0.00...</td>\n",
       "    </tr>\n",
       "    <tr>\n",
       "      <th>4</th>\n",
       "      <td>15</td>\n",
       "      <td>[-0.04619904, -0.053223185, -0.06296745, -0.03...</td>\n",
       "    </tr>\n",
       "    <tr>\n",
       "      <th>...</th>\n",
       "      <td>...</td>\n",
       "      <td>...</td>\n",
       "    </tr>\n",
       "    <tr>\n",
       "      <th>2321</th>\n",
       "      <td>41389</td>\n",
       "      <td>[-0.02934016, -0.015858095, -0.027120398, -0.0...</td>\n",
       "    </tr>\n",
       "    <tr>\n",
       "      <th>2322</th>\n",
       "      <td>41433</td>\n",
       "      <td>[-0.020284018, -0.009865774, -0.024244614, -0....</td>\n",
       "    </tr>\n",
       "    <tr>\n",
       "      <th>2323</th>\n",
       "      <td>41468</td>\n",
       "      <td>[0.0022373917, -0.019117152, 0.014048216, 0.01...</td>\n",
       "    </tr>\n",
       "    <tr>\n",
       "      <th>2324</th>\n",
       "      <td>41619</td>\n",
       "      <td>[-0.050313886, -0.017333463, 0.037420116, -0.0...</td>\n",
       "    </tr>\n",
       "    <tr>\n",
       "      <th>2325</th>\n",
       "      <td>41930</td>\n",
       "      <td>[0.007963271, -0.05226232, -0.025430024, 0.008...</td>\n",
       "    </tr>\n",
       "  </tbody>\n",
       "</table>\n",
       "<p>2326 rows × 2 columns</p>\n",
       "</div>"
      ],
      "text/plain": [
       "      anime_id                                 content_embeddings\n",
       "0            1  [-0.033500284, 0.03323533, 0.034192204, -0.049...\n",
       "1            5  [-0.035846457, 0.022955496, 0.012560053, -0.03...\n",
       "2            6  [0.051486682, -0.060088806, -0.029781044, -0.0...\n",
       "3            7  [-0.0076218257, -0.026781121, 0.05598651, 0.00...\n",
       "4           15  [-0.04619904, -0.053223185, -0.06296745, -0.03...\n",
       "...        ...                                                ...\n",
       "2321     41389  [-0.02934016, -0.015858095, -0.027120398, -0.0...\n",
       "2322     41433  [-0.020284018, -0.009865774, -0.024244614, -0....\n",
       "2323     41468  [0.0022373917, -0.019117152, 0.014048216, 0.01...\n",
       "2324     41619  [-0.050313886, -0.017333463, 0.037420116, -0.0...\n",
       "2325     41930  [0.007963271, -0.05226232, -0.025430024, 0.008...\n",
       "\n",
       "[2326 rows x 2 columns]"
      ]
     },
     "metadata": {},
     "execution_count": 37
    }
   ],
   "metadata": {}
  },
  {
   "cell_type": "markdown",
   "source": [
    "Se recopilan los vectores de características de cada anime:"
   ],
   "metadata": {}
  },
  {
   "cell_type": "code",
   "execution_count": 38,
   "source": [
    "vectors = np.vstack(reduced_info['content_embeddings'].to_numpy())\n",
    "vectors.shape"
   ],
   "outputs": [
    {
     "output_type": "execute_result",
     "data": {
      "text/plain": [
       "(2326, 512)"
      ]
     },
     "metadata": {},
     "execution_count": 38
    }
   ],
   "metadata": {}
  },
  {
   "cell_type": "markdown",
   "source": [
    "Las siguientes funciones permiten recomendar animes basándose en el perfil de los usuarios y los contenidos representados con los embeddings:"
   ],
   "metadata": {}
  },
  {
   "cell_type": "code",
   "execution_count": 39,
   "source": [
    "def content_rec(user_vector, anime_vectors, metric, top_n):\n",
    "    distances = pairwise_distances(user_vector.reshape(1,-1), anime_vectors, metric=metric)\n",
    "    recommended_ids = np.argpartition(distances[0], top_n)[:top_n]\n",
    "    return sorted(recommended_ids, key=lambda x: distances[0][x])\n",
    "\n",
    "def content_rec_test(test_data, user_vectors, anime_vectors, metric, top_n):\n",
    "    users = user_items_val.keys()\n",
    "    mean_map = 0.\n",
    "    mean_ndcg = 0.\n",
    "    valid_users = 0\n",
    "    for user in users:\n",
    "        user_animes = test_data[(test_data['user_id'] == user) & (test_data['rating'] == 1)]['anime_id'].to_list()\n",
    "        if user_animes:\n",
    "            valid_users += 1\n",
    "            animes_not_watched = reduced_info[~reduced_info['anime_id'].isin(user_items[user])]\n",
    "            vectors_not_watched = anime_vectors[animes_not_watched.index.to_list()]\n",
    "            rec_ids = content_rec(user_vectors[user], vectors_not_watched, metric=metric, top_n=top_n)\n",
    "            rec_animes = [animes_not_watched.iloc[idx]['anime_id'] for idx in rec_ids]\n",
    "            rel_vector = [np.isin(rec_animes, user_animes, assume_unique=True).astype(int)]\n",
    "            mean_map += mean_average_precision(rel_vector)\n",
    "            mean_ndcg += ndcg_at_k(rel_vector[0], top_n)\n",
    "    mean_map /= valid_users\n",
    "    mean_ndcg /= valid_users\n",
    "    return mean_map, mean_ndcg"
   ],
   "outputs": [],
   "metadata": {}
  },
  {
   "cell_type": "markdown",
   "source": [
    "Se realiza el análisis de sensibilidad, variando las métricas de similaridad (coseno, euclidiana, manhattan) y las dimensiones resultantes del Principal Component Analysis (PCA):"
   ],
   "metadata": {}
  },
  {
   "cell_type": "code",
   "execution_count": 40,
   "source": [
    "top_n = 10\n",
    "dimensions = (10, 50, 100)\n",
    "performance_values = {'cosine': {x: None for x in dimensions}, 'euclidean': {x: None for x in dimensions}, 'manhattan': {x: None for x in dimensions}}\n",
    "for metric in ('cosine', 'euclidean', 'manhattan'):\n",
    "    for dim in dimensions:\n",
    "        pca_vectors = PCA(n_components=dim).fit_transform(vectors)\n",
    "        default_user_vector = np.average(pca_vectors, axis=0)\n",
    "        print(f'Metric: {metric}, Dimensions: {dim}')\n",
    "        user_vectors = {}\n",
    "        for user in user_items.keys():\n",
    "            animes_watched = reduced_info[reduced_info['anime_id'].isin(user_items[user])]\n",
    "            user_vector = default_user_vector\n",
    "            if user_items[user]:\n",
    "                user_vector = np.average(pca_vectors[animes_watched.index.to_list()], axis=0)\n",
    "            user_vectors[user] = user_vector\n",
    "        content_map, content_ndcg = content_rec_test(df_val, user_vectors, pca_vectors, metric=metric, top_n=top_n)\n",
    "        performance_values[metric][dim] = (content_map, content_ndcg)"
   ],
   "outputs": [
    {
     "output_type": "stream",
     "name": "stdout",
     "text": [
      "Metric: cosine, Dimensions: 10\n",
      "Metric: cosine, Dimensions: 50\n",
      "Metric: cosine, Dimensions: 100\n",
      "Metric: euclidean, Dimensions: 10\n",
      "Metric: euclidean, Dimensions: 50\n",
      "Metric: euclidean, Dimensions: 100\n",
      "Metric: manhattan, Dimensions: 10\n",
      "Metric: manhattan, Dimensions: 50\n",
      "Metric: manhattan, Dimensions: 100\n"
     ]
    }
   ],
   "metadata": {}
  },
  {
   "cell_type": "markdown",
   "source": [
    "Podemos ver los valores obtenidos:"
   ],
   "metadata": {}
  },
  {
   "cell_type": "code",
   "execution_count": 41,
   "source": [
    "print(performance_values)"
   ],
   "outputs": [
    {
     "output_type": "stream",
     "name": "stdout",
     "text": [
      "{'cosine': {10: (0.005720341029560569, 0.00853052080238263), 50: (0.007789502027292993, 0.011281379394569364), 100: (0.007998736413273156, 0.011780794800843989)}, 'euclidean': {10: (0.0023895252101550583, 0.0040958331017915146), 50: (0.004383462650235821, 0.007310082209921803), 100: (0.00468915645775528, 0.007423251889404922)}, 'manhattan': {10: (0.002213902955573425, 0.00398506782263429), 50: (0.005307034066732839, 0.00795833647237055), 100: (0.004402434562749494, 0.007322723454618326)}}\n"
     ]
    }
   ],
   "metadata": {}
  },
  {
   "cell_type": "markdown",
   "source": [
    "A continuación se visualizan los resultados para la distancia coseno, variando las dimensiones de los vectores finales:"
   ],
   "metadata": {}
  },
  {
   "cell_type": "code",
   "execution_count": 43,
   "source": [
    "cosine_values = []\n",
    "for r in performance_values['cosine'].values():\n",
    "    cosine_values += [r[0], r[1]]\n",
    "cosine_data = pd.DataFrame({'dimensions': [10, 10, 50, 50, 100, 100], 'Metric': 3 * ['MAP@10', 'nDCG@10'], 'values': cosine_values})\n",
    "ax = sns.catplot(x='dimensions', y='values', data=cosine_data, hue='Metric', kind='bar', palette='Blues_d', height=6, aspect=1.5)\n",
    "ax.set(title='Content Based Performance by Number of Dimensions (Cosine Distance)', xlabel='Number of Dimensions', ylabel='Metric Value')\n",
    "plt.show()"
   ],
   "outputs": [
    {
     "output_type": "display_data",
     "data": {
      "image/png": "[encoded data removed]",
      "text/plain": [
       "<Figure size 744.225x432 with 1 Axes>"
      ]
     },
     "metadata": {}
    }
   ],
   "metadata": {}
  },
  {
   "cell_type": "markdown",
   "source": [
    "Lo mismo para la distancia euclidiana:"
   ],
   "metadata": {}
  },
  {
   "cell_type": "code",
   "execution_count": 44,
   "source": [
    "euclidean_values = []\n",
    "for r in performance_values['euclidean'].values():\n",
    "    euclidean_values += [r[0], r[1]]\n",
    "euclidean_data = pd.DataFrame({'dimensions': [10, 10, 50, 50, 100, 100], 'Metric': 3 * ['MAP@10', 'nDCG@10'], 'values': euclidean_values})\n",
    "ax = sns.catplot(x='dimensions', y='values', data=euclidean_data, hue='Metric', kind='bar', palette='Greens_d', height=6, aspect=1.5)\n",
    "ax.set(title='Content Based Performance by Number of Dimensions (Euclidean Distance)', xlabel='Number of Dimensions', ylabel='Metric Value')\n",
    "plt.show()"
   ],
   "outputs": [
    {
     "output_type": "display_data",
     "data": {
      "image/png": "[encoded data removed]",
      "text/plain": [
       "<Figure size 744.225x432 with 1 Axes>"
      ]
     },
     "metadata": {}
    }
   ],
   "metadata": {}
  },
  {
   "cell_type": "markdown",
   "source": [
    "Finalmente, para la distancia manhattan:"
   ],
   "metadata": {}
  },
  {
   "cell_type": "code",
   "execution_count": 45,
   "source": [
    "manhattan_values = []\n",
    "for r in performance_values['manhattan'].values():\n",
    "    manhattan_values += [r[0], r[1]]\n",
    "manhattan_data = pd.DataFrame({'dimensions': [10, 10, 50, 50, 100, 100], 'Metric': 3 * ['MAP@10', 'nDCG@10'], 'values': manhattan_values})\n",
    "ax = sns.catplot(x='dimensions', y='values', data=manhattan_data, hue='Metric', kind='bar', palette='Reds_d', height=6, aspect=1.5)\n",
    "ax.set(title='Content Based Performance by Number of Dimensions (Manhattan Distance)', xlabel='Number of Dimensions', ylabel='Metric Value')\n",
    "plt.show()"
   ],
   "outputs": [
    {
     "output_type": "display_data",
     "data": {
      "image/png": "[encoded data removed]",
      "text/plain": [
       "<Figure size 744.225x432 with 1 Axes>"
      ]
     },
     "metadata": {}
    }
   ],
   "metadata": {}
  },
  {
   "cell_type": "markdown",
   "source": [
    "# Actividad 5"
   ],
   "metadata": {}
  },
  {
   "cell_type": "markdown",
   "source": [
    "Realizamos una comparación de rendimiento entre los 5 modelos probados durante la tarea, considerando las métricas pedidas para 10, 20 y 30 recomendaciones:"
   ],
   "metadata": {}
  },
  {
   "cell_type": "code",
   "execution_count": 46,
   "source": [
    "most_popular_data = ['Most Popular']\n",
    "random_data = ['Random']\n",
    "als_data = ['ALS (50 Latent Factors)']\n",
    "bpr_data = ['BPR (50 Latent Factors)']\n",
    "content_based = ['Content Based (PCA@100 + Cosine Distance)']\n",
    "als_model = implicit.als.AlternatingLeastSquares(factors=50, use_gpu=False)\n",
    "als_model.fit(matrix)\n",
    "bpr_model = implicit.bpr.BayesianPersonalizedRanking(factors=50, use_gpu=False)\n",
    "bpr_model.fit(matrix)\n",
    "pca_vectors = PCA(n_components=100).fit_transform(vectors)\n",
    "default_user_vector = np.average(pca_vectors, axis=0)\n",
    "user_vectors = {}\n",
    "for user in user_items.keys():\n",
    "    animes_watched = reduced_info[reduced_info['anime_id'].isin(user_items[user])]\n",
    "    user_vector = default_user_vector\n",
    "    if user_items[user]:\n",
    "        user_vector = np.average(pca_vectors[animes_watched.index.to_list()], axis=0)\n",
    "    user_vectors[user] = user_vector\n",
    "\n",
    "# Eval\n",
    "for n in (10, 20, 30):\n",
    "    # Most Popular\n",
    "    rec_list, most_popular_map, most_popular_ndcg = most_popular.testrec(input_file='datasets/val.csv',\n",
    "                                                        dlmchar=b',',\n",
    "                                                        header=True,\n",
    "                                                        usercol=0,\n",
    "                                                        itemcol=1,\n",
    "                                                        ratingcol=2,\n",
    "                                                        topn=n,\n",
    "                                                        relevance_threshold=7,\n",
    "                                                        includeRated=False)\n",
    "    most_popular_data += [round(most_popular_ndcg, 6), round(most_popular_map, 6)]\n",
    "\n",
    "    # Random\n",
    "    random_map, random_ndcg = random_rec_test(df_train, df_val, n)\n",
    "    random_data += [round(random_ndcg, 6), round(random_map, 6)]\n",
    "\n",
    "    # Matrix Factorization (ALS)\n",
    "    als_map, als_ndcg = evaluate_implicit(user_items_val, user_ids, user_item_matrix, als_model, n=n)\n",
    "    als_data += [round(als_ndcg, 6), round(als_map, 6)]\n",
    "\n",
    "    # Matrix Factorization (BPR)\n",
    "    bpr_map, bpr_ndcg = evaluate_implicit(user_items_val, user_ids, user_item_matrix, bpr_model, n=n)\n",
    "    bpr_data += [round(bpr_ndcg, 6), round(bpr_map, 6)]\n",
    "\n",
    "    # Content Based\n",
    "    content_map, content_ndcg = content_rec_test(df_val, user_vectors, pca_vectors, metric='cosine', top_n=n)\n",
    "    content_based += [round(content_ndcg, 6), round(content_map, 6)]"
   ],
   "outputs": [
    {
     "output_type": "stream",
     "name": "stderr",
     "text": [
      "100%|██████████| 15/15 [00:09<00:00,  1.53it/s]\n",
      "100%|██████████| 100/100 [00:13<00:00,  7.52it/s, train_auc=86.60%, skipped=5.37%]\n"
     ]
    }
   ],
   "metadata": {}
  },
  {
   "cell_type": "markdown",
   "source": [
    "En la siguiente tabla se pueden ver los resultados:"
   ],
   "metadata": {}
  },
  {
   "cell_type": "code",
   "execution_count": 47,
   "source": [
    "final_performance = pd.DataFrame([most_popular_data, random_data, als_data, bpr_data, content_based],\n",
    "    columns=['Model', 'nDCG@10', 'MAP@10', 'nDCG@20', 'MAP@20', 'nDCG@30', 'MAP@30'])\n",
    "final_performance.style.hide_index()"
   ],
   "outputs": [
    {
     "output_type": "execute_result",
     "data": {
      "text/html": [
       "<style type=\"text/css\">\n",
       "</style>\n",
       "<table id=\"T_f3e24_\">\n",
       "  <thead>\n",
       "    <tr>\n",
       "      <th class=\"col_heading level0 col0\" >Model</th>\n",
       "      <th class=\"col_heading level0 col1\" >nDCG@10</th>\n",
       "      <th class=\"col_heading level0 col2\" >MAP@10</th>\n",
       "      <th class=\"col_heading level0 col3\" >nDCG@20</th>\n",
       "      <th class=\"col_heading level0 col4\" >MAP@20</th>\n",
       "      <th class=\"col_heading level0 col5\" >nDCG@30</th>\n",
       "      <th class=\"col_heading level0 col6\" >MAP@30</th>\n",
       "    </tr>\n",
       "  </thead>\n",
       "  <tbody>\n",
       "    <tr>\n",
       "      <td id=\"T_f3e24_row0_col0\" class=\"data row0 col0\" >Most Popular</td>\n",
       "      <td id=\"T_f3e24_row0_col1\" class=\"data row0 col1\" >0.012204</td>\n",
       "      <td id=\"T_f3e24_row0_col2\" class=\"data row0 col2\" >0.011027</td>\n",
       "      <td id=\"T_f3e24_row0_col3\" class=\"data row0 col3\" >0.017417</td>\n",
       "      <td id=\"T_f3e24_row0_col4\" class=\"data row0 col4\" >0.012846</td>\n",
       "      <td id=\"T_f3e24_row0_col5\" class=\"data row0 col5\" >0.021628</td>\n",
       "      <td id=\"T_f3e24_row0_col6\" class=\"data row0 col6\" >0.013672</td>\n",
       "    </tr>\n",
       "    <tr>\n",
       "      <td id=\"T_f3e24_row1_col0\" class=\"data row1 col0\" >Random</td>\n",
       "      <td id=\"T_f3e24_row1_col1\" class=\"data row1 col1\" >0.004309</td>\n",
       "      <td id=\"T_f3e24_row1_col2\" class=\"data row1 col2\" >0.002899</td>\n",
       "      <td id=\"T_f3e24_row1_col3\" class=\"data row1 col3\" >0.005570</td>\n",
       "      <td id=\"T_f3e24_row1_col4\" class=\"data row1 col4\" >0.002986</td>\n",
       "      <td id=\"T_f3e24_row1_col5\" class=\"data row1 col5\" >0.007844</td>\n",
       "      <td id=\"T_f3e24_row1_col6\" class=\"data row1 col6\" >0.003484</td>\n",
       "    </tr>\n",
       "    <tr>\n",
       "      <td id=\"T_f3e24_row2_col0\" class=\"data row2 col0\" >ALS (50 Latent Factors)</td>\n",
       "      <td id=\"T_f3e24_row2_col1\" class=\"data row2 col1\" >0.022948</td>\n",
       "      <td id=\"T_f3e24_row2_col2\" class=\"data row2 col2\" >0.014717</td>\n",
       "      <td id=\"T_f3e24_row2_col3\" class=\"data row2 col3\" >0.033700</td>\n",
       "      <td id=\"T_f3e24_row2_col4\" class=\"data row2 col4\" >0.017475</td>\n",
       "      <td id=\"T_f3e24_row2_col5\" class=\"data row2 col5\" >0.042034</td>\n",
       "      <td id=\"T_f3e24_row2_col6\" class=\"data row2 col6\" >0.018983</td>\n",
       "    </tr>\n",
       "    <tr>\n",
       "      <td id=\"T_f3e24_row3_col0\" class=\"data row3 col0\" >BPR (50 Latent Factors)</td>\n",
       "      <td id=\"T_f3e24_row3_col1\" class=\"data row3 col1\" >0.016732</td>\n",
       "      <td id=\"T_f3e24_row3_col2\" class=\"data row3 col2\" >0.011146</td>\n",
       "      <td id=\"T_f3e24_row3_col3\" class=\"data row3 col3\" >0.024909</td>\n",
       "      <td id=\"T_f3e24_row3_col4\" class=\"data row3 col4\" >0.013288</td>\n",
       "      <td id=\"T_f3e24_row3_col5\" class=\"data row3 col5\" >0.030534</td>\n",
       "      <td id=\"T_f3e24_row3_col6\" class=\"data row3 col6\" >0.014266</td>\n",
       "    </tr>\n",
       "    <tr>\n",
       "      <td id=\"T_f3e24_row4_col0\" class=\"data row4 col0\" >Content Based (PCA@100 + Cosine Distance)</td>\n",
       "      <td id=\"T_f3e24_row4_col1\" class=\"data row4 col1\" >0.011925</td>\n",
       "      <td id=\"T_f3e24_row4_col2\" class=\"data row4 col2\" >0.008347</td>\n",
       "      <td id=\"T_f3e24_row4_col3\" class=\"data row4 col3\" >0.017771</td>\n",
       "      <td id=\"T_f3e24_row4_col4\" class=\"data row4 col4\" >0.009880</td>\n",
       "      <td id=\"T_f3e24_row4_col5\" class=\"data row4 col5\" >0.021820</td>\n",
       "      <td id=\"T_f3e24_row4_col6\" class=\"data row4 col6\" >0.010545</td>\n",
       "    </tr>\n",
       "  </tbody>\n",
       "</table>\n"
      ],
      "text/plain": [
       "<pandas.io.formats.style.Styler at 0x7fdfcc5e4fa0>"
      ]
     },
     "metadata": {},
     "execution_count": 47
    }
   ],
   "metadata": {}
  },
  {
   "cell_type": "markdown",
   "source": [
    "Concluímos que el mejor modelo corresponde a la Factorización Matricial Optimizada con ALS (ver el análisis en el informe). Procedemos a recomendar 10 animes para cada usuario del set de testing:"
   ],
   "metadata": {}
  },
  {
   "cell_type": "code",
   "execution_count": 9,
   "source": [
    "als_model = implicit.als.AlternatingLeastSquares(factors=50, use_gpu=False)\n",
    "als_model.fit(matrix)\n",
    "test_users = df_test['user_id'].value_counts().keys().to_list()\n",
    "test_recommendations = {}\n",
    "for user in test_users:\n",
    "    final_rec_animes = [itemset[t[0]] for t in als_model.recommend(user_ids[user], user_item_matrix, 10)]\n",
    "    test_recommendations[user] = final_rec_animes"
   ],
   "outputs": [
    {
     "output_type": "stream",
     "name": "stderr",
     "text": [
      "WARNING:root:OpenBLAS detected. Its highly recommend to set the environment variable 'export OPENBLAS_NUM_THREADS=1' to disable its internal multithreading\n",
      "100%|██████████| 15/15 [00:08<00:00,  1.69it/s]\n"
     ]
    }
   ],
   "metadata": {}
  },
  {
   "cell_type": "markdown",
   "source": [
    "El diccionario ``test_recommendations`` contiene las recomendaciones pedidas, las que además guardamos en el archivo ``test_results.json``:"
   ],
   "metadata": {}
  },
  {
   "cell_type": "code",
   "execution_count": 15,
   "source": [
    "test_recommendations = {str(key): [int(x) for x in val] for key, val in test_recommendations.items()}\n",
    "print({str(key): val for key, val in list(test_recommendations.items())[:10]})\n",
    "with open('test_results.json', 'w') as file:\n",
    "    json.dump(test_recommendations, file)"
   ],
   "outputs": [
    {
     "output_type": "stream",
     "name": "stdout",
     "text": [
      "{'125862': [7054, 9919, 853, 2966, 14227, 5680, 11111, 6045, 4081, 2025], '325195': [2001, 28171, 28121, 30503, 32937, 10620, 121, 24833, 28223, 32282], '242274': [28171, 23847, 33486, 28907, 22297, 15451, 14813, 23755, 29803, 11741], '271978': [11597, 25777, 17074, 14741, 37510, 2251, 17265, 9756, 10165, 21855], '94190': [13601, 18153, 10620, 13759, 3588, 30, 11111, 31964, 17549, 226], '296522': [13601, 11597, 4282, 3783, 35760, 2167, 38524, 9919, 30503, 11843], '269793': [9756, 32182, 30831, 11061, 5081, 28851, 10863, 30015, 21881, 23283], '73946': [11597, 37779, 23847, 11111, 38524, 13759, 35790, 33352, 38408, 13601], '10489': [12189, 31240, 18897, 10080, 226, 10620, 3712, 30, 20, 11111], '230791': [30, 164, 2001, 431, 2236, 1, 121, 889, 5681, 47]}\n"
     ]
    }
   ],
   "metadata": {}
  },
  {
   "cell_type": "markdown",
   "source": [
    "# Actividad 6"
   ],
   "metadata": {}
  },
  {
   "cell_type": "markdown",
   "source": [
    "Escogemos 3 usuarios del set de testing, y revisamos 10 animes previamente vistos, así como nuestras 10 recomendaciones según el modelo ganador (ALS):"
   ],
   "metadata": {}
  },
  {
   "cell_type": "code",
   "execution_count": 16,
   "source": [
    "for idx in (12, 14, 100):\n",
    "    test_user_id = test_users[idx]\n",
    "    print(f'User ID: {test_user_id}')\n",
    "    print('Previously Watched')\n",
    "    previous = df_info[df_info['anime_id'].isin(user_items[test_user_id][:10])].drop(['Synopsis', 'content', 'content_embeddings'], axis=1)\n",
    "    display(previous.style.hide_index())\n",
    "    print('Recommended')\n",
    "    recommended = test_recommendations[str(test_user_id)]\n",
    "    rec_data = []\n",
    "    for rec in recommended:\n",
    "        rec_row = df_info[df_info['anime_id'] == rec]\n",
    "        rec_data.append((rec_row.iloc[0]['anime_id'], rec_row.iloc[0]['Name'], rec_row.iloc[0]['Genres']))\n",
    "    df_result = pd.DataFrame(rec_data, columns=['anime_id', 'Name', 'Genres'])\n",
    "    display(df_result.style.hide_index())"
   ],
   "outputs": [
    {
     "output_type": "stream",
     "name": "stdout",
     "text": [
      "User ID: 302567\n",
      "Previously Watched\n"
     ]
    },
    {
     "output_type": "display_data",
     "data": {
      "text/html": [
       "<style type=\"text/css\">\n",
       "</style>\n",
       "<table id=\"T_25996_\">\n",
       "  <thead>\n",
       "    <tr>\n",
       "      <th class=\"col_heading level0 col0\" >anime_id</th>\n",
       "      <th class=\"col_heading level0 col1\" >Name</th>\n",
       "      <th class=\"col_heading level0 col2\" >Genres</th>\n",
       "    </tr>\n",
       "  </thead>\n",
       "  <tbody>\n",
       "    <tr>\n",
       "      <td id=\"T_25996_row0_col0\" class=\"data row0 col0\" >268</td>\n",
       "      <td id=\"T_25996_row0_col1\" class=\"data row0 col1\" >Golden Boy</td>\n",
       "      <td id=\"T_25996_row0_col2\" class=\"data row0 col2\" >Adventure, Comedy, Ecchi</td>\n",
       "    </tr>\n",
       "    <tr>\n",
       "      <td id=\"T_25996_row1_col0\" class=\"data row1 col0\" >874</td>\n",
       "      <td id=\"T_25996_row1_col1\" class=\"data row1 col1\" >Digimon Tamers</td>\n",
       "      <td id=\"T_25996_row1_col2\" class=\"data row1 col2\" >Adventure, Comedy, Drama, Fantasy, Shounen</td>\n",
       "    </tr>\n",
       "    <tr>\n",
       "      <td id=\"T_25996_row2_col0\" class=\"data row2 col0\" >2251</td>\n",
       "      <td id=\"T_25996_row2_col1\" class=\"data row2 col1\" >Baccano!</td>\n",
       "      <td id=\"T_25996_row2_col2\" class=\"data row2 col2\" >Action, Comedy, Historical, Mystery, Supernatural</td>\n",
       "    </tr>\n",
       "    <tr>\n",
       "      <td id=\"T_25996_row3_col0\" class=\"data row3 col0\" >5081</td>\n",
       "      <td id=\"T_25996_row3_col1\" class=\"data row3 col1\" >Bakemonogatari</td>\n",
       "      <td id=\"T_25996_row3_col2\" class=\"data row3 col2\" >Romance, Supernatural, Mystery, Vampire</td>\n",
       "    </tr>\n",
       "    <tr>\n",
       "      <td id=\"T_25996_row4_col0\" class=\"data row4 col0\" >7785</td>\n",
       "      <td id=\"T_25996_row4_col1\" class=\"data row4 col1\" >Yojouhan Shinwa Taikei</td>\n",
       "      <td id=\"T_25996_row4_col2\" class=\"data row4 col2\" >Mystery, Comedy, Psychological, Romance</td>\n",
       "    </tr>\n",
       "    <tr>\n",
       "      <td id=\"T_25996_row5_col0\" class=\"data row5 col0\" >12893</td>\n",
       "      <td id=\"T_25996_row5_col1\" class=\"data row5 col1\" >Danshi Koukousei no Nichijou Specials</td>\n",
       "      <td id=\"T_25996_row5_col2\" class=\"data row5 col2\" >Comedy, School, Shounen, Slice of Life</td>\n",
       "    </tr>\n",
       "    <tr>\n",
       "      <td id=\"T_25996_row6_col0\" class=\"data row6 col0\" >28025</td>\n",
       "      <td id=\"T_25996_row6_col1\" class=\"data row6 col1\" >Tsukimonogatari</td>\n",
       "      <td id=\"T_25996_row6_col2\" class=\"data row6 col2\" >Mystery, Comedy, Supernatural, Ecchi</td>\n",
       "    </tr>\n",
       "    <tr>\n",
       "      <td id=\"T_25996_row7_col0\" class=\"data row7 col0\" >28701</td>\n",
       "      <td id=\"T_25996_row7_col1\" class=\"data row7 col1\" >Fate/stay night: Unlimited Blade Works 2nd Season</td>\n",
       "      <td id=\"T_25996_row7_col2\" class=\"data row7 col2\" >Action, Fantasy, Magic, Supernatural</td>\n",
       "    </tr>\n",
       "    <tr>\n",
       "      <td id=\"T_25996_row8_col0\" class=\"data row8 col0\" >31240</td>\n",
       "      <td id=\"T_25996_row8_col1\" class=\"data row8 col1\" >Re:Zero kara Hajimeru Isekai Seikatsu</td>\n",
       "      <td id=\"T_25996_row8_col2\" class=\"data row8 col2\" >Psychological, Drama, Thriller, Fantasy</td>\n",
       "    </tr>\n",
       "    <tr>\n",
       "      <td id=\"T_25996_row9_col0\" class=\"data row9 col0\" >31665</td>\n",
       "      <td id=\"T_25996_row9_col1\" class=\"data row9 col1\" >Hibike! Euphonium: Kakedasu Monaka</td>\n",
       "      <td id=\"T_25996_row9_col2\" class=\"data row9 col2\" >Drama, Music, School</td>\n",
       "    </tr>\n",
       "  </tbody>\n",
       "</table>\n"
      ],
      "text/plain": [
       "<pandas.io.formats.style.Styler at 0x7f825db41d60>"
      ]
     },
     "metadata": {}
    },
    {
     "output_type": "stream",
     "name": "stdout",
     "text": [
      "Recommended\n"
     ]
    },
    {
     "output_type": "display_data",
     "data": {
      "text/html": [
       "<style type=\"text/css\">\n",
       "</style>\n",
       "<table id=\"T_7a8eb_\">\n",
       "  <thead>\n",
       "    <tr>\n",
       "      <th class=\"col_heading level0 col0\" >anime_id</th>\n",
       "      <th class=\"col_heading level0 col1\" >Name</th>\n",
       "      <th class=\"col_heading level0 col2\" >Genres</th>\n",
       "    </tr>\n",
       "  </thead>\n",
       "  <tbody>\n",
       "    <tr>\n",
       "      <td id=\"T_7a8eb_row0_col0\" class=\"data row0 col0\" >17074</td>\n",
       "      <td id=\"T_7a8eb_row0_col1\" class=\"data row0 col1\" >Monogatari Series: Second Season</td>\n",
       "      <td id=\"T_7a8eb_row0_col2\" class=\"data row0 col2\" >Mystery, Comedy, Supernatural, Romance, Vampire</td>\n",
       "    </tr>\n",
       "    <tr>\n",
       "      <td id=\"T_7a8eb_row1_col0\" class=\"data row1 col0\" >15689</td>\n",
       "      <td id=\"T_7a8eb_row1_col1\" class=\"data row1 col1\" >Nekomonogatari: Kuro</td>\n",
       "      <td id=\"T_7a8eb_row1_col2\" class=\"data row1 col2\" >Comedy, Supernatural, Romance, Ecchi</td>\n",
       "    </tr>\n",
       "    <tr>\n",
       "      <td id=\"T_7a8eb_row2_col0\" class=\"data row2 col0\" >6746</td>\n",
       "      <td id=\"T_7a8eb_row2_col1\" class=\"data row2 col1\" >Durarara!!</td>\n",
       "      <td id=\"T_7a8eb_row2_col2\" class=\"data row2 col2\" >Action, Mystery, Supernatural</td>\n",
       "    </tr>\n",
       "    <tr>\n",
       "      <td id=\"T_7a8eb_row3_col0\" class=\"data row3 col0\" >21855</td>\n",
       "      <td id=\"T_7a8eb_row3_col1\" class=\"data row3 col1\" >Hanamonogatari</td>\n",
       "      <td id=\"T_7a8eb_row3_col2\" class=\"data row3 col2\" >Mystery, Comedy, Supernatural</td>\n",
       "    </tr>\n",
       "    <tr>\n",
       "      <td id=\"T_7a8eb_row4_col0\" class=\"data row4 col0\" >18679</td>\n",
       "      <td id=\"T_7a8eb_row4_col1\" class=\"data row4 col1\" >Kill la Kill</td>\n",
       "      <td id=\"T_7a8eb_row4_col2\" class=\"data row4 col2\" >Action, Comedy, Super Power, Ecchi, School</td>\n",
       "    </tr>\n",
       "    <tr>\n",
       "      <td id=\"T_7a8eb_row5_col0\" class=\"data row5 col0\" >31181</td>\n",
       "      <td id=\"T_7a8eb_row5_col1\" class=\"data row5 col1\" >Owarimonogatari</td>\n",
       "      <td id=\"T_7a8eb_row5_col2\" class=\"data row5 col2\" >Mystery, Comedy, Supernatural, Vampire</td>\n",
       "    </tr>\n",
       "    <tr>\n",
       "      <td id=\"T_7a8eb_row6_col0\" class=\"data row6 col0\" >17265</td>\n",
       "      <td id=\"T_7a8eb_row6_col1\" class=\"data row6 col1\" >Log Horizon</td>\n",
       "      <td id=\"T_7a8eb_row6_col2\" class=\"data row6 col2\" >Action, Game, Adventure, Magic, Fantasy</td>\n",
       "    </tr>\n",
       "    <tr>\n",
       "      <td id=\"T_7a8eb_row7_col0\" class=\"data row7 col0\" >11741</td>\n",
       "      <td id=\"T_7a8eb_row7_col1\" class=\"data row7 col1\" >Fate/Zero 2nd Season</td>\n",
       "      <td id=\"T_7a8eb_row7_col2\" class=\"data row7 col2\" >Action, Supernatural, Magic, Fantasy</td>\n",
       "    </tr>\n",
       "    <tr>\n",
       "      <td id=\"T_7a8eb_row8_col0\" class=\"data row8 col0\" >28223</td>\n",
       "      <td id=\"T_7a8eb_row8_col1\" class=\"data row8 col1\" >Death Parade</td>\n",
       "      <td id=\"T_7a8eb_row8_col2\" class=\"data row8 col2\" >Game, Mystery, Psychological, Drama, Thriller</td>\n",
       "    </tr>\n",
       "    <tr>\n",
       "      <td id=\"T_7a8eb_row9_col0\" class=\"data row9 col0\" >1519</td>\n",
       "      <td id=\"T_7a8eb_row9_col1\" class=\"data row9 col1\" >Black Lagoon: The Second Barrage</td>\n",
       "      <td id=\"T_7a8eb_row9_col2\" class=\"data row9 col2\" >Action, Seinen</td>\n",
       "    </tr>\n",
       "  </tbody>\n",
       "</table>\n"
      ],
      "text/plain": [
       "<pandas.io.formats.style.Styler at 0x7f81f10fef10>"
      ]
     },
     "metadata": {}
    },
    {
     "output_type": "stream",
     "name": "stdout",
     "text": [
      "User ID: 311453\n",
      "Previously Watched\n"
     ]
    },
    {
     "output_type": "display_data",
     "data": {
      "text/html": [
       "<style type=\"text/css\">\n",
       "</style>\n",
       "<table id=\"T_517cc_\">\n",
       "  <thead>\n",
       "    <tr>\n",
       "      <th class=\"col_heading level0 col0\" >anime_id</th>\n",
       "      <th class=\"col_heading level0 col1\" >Name</th>\n",
       "      <th class=\"col_heading level0 col2\" >Genres</th>\n",
       "    </tr>\n",
       "  </thead>\n",
       "  <tbody>\n",
       "    <tr>\n",
       "      <td id=\"T_517cc_row0_col0\" class=\"data row0 col0\" >2476</td>\n",
       "      <td id=\"T_517cc_row0_col1\" class=\"data row0 col1\" >School Days</td>\n",
       "      <td id=\"T_517cc_row0_col2\" class=\"data row0 col2\" >Harem, Drama, Romance, School</td>\n",
       "    </tr>\n",
       "    <tr>\n",
       "      <td id=\"T_517cc_row1_col0\" class=\"data row1 col0\" >2993</td>\n",
       "      <td id=\"T_517cc_row1_col1\" class=\"data row1 col1\" >Rosario to Vampire</td>\n",
       "      <td id=\"T_517cc_row1_col2\" class=\"data row1 col2\" >Harem, Comedy, Romance, Ecchi, Vampire, Fantasy, School, Shounen</td>\n",
       "    </tr>\n",
       "    <tr>\n",
       "      <td id=\"T_517cc_row2_col0\" class=\"data row2 col0\" >10578</td>\n",
       "      <td id=\"T_517cc_row2_col1\" class=\"data row2 col1\" >C³</td>\n",
       "      <td id=\"T_517cc_row2_col2\" class=\"data row2 col2\" >Action, Comedy, Ecchi, School, Supernatural</td>\n",
       "    </tr>\n",
       "    <tr>\n",
       "      <td id=\"T_517cc_row3_col0\" class=\"data row3 col0\" >13601</td>\n",
       "      <td id=\"T_517cc_row3_col1\" class=\"data row3 col1\" >Psycho-Pass</td>\n",
       "      <td id=\"T_517cc_row3_col2\" class=\"data row3 col2\" >Action, Sci-Fi, Police, Psychological</td>\n",
       "    </tr>\n",
       "    <tr>\n",
       "      <td id=\"T_517cc_row4_col0\" class=\"data row4 col0\" >14713</td>\n",
       "      <td id=\"T_517cc_row4_col1\" class=\"data row4 col1\" >Kamisama Hajimemashita</td>\n",
       "      <td id=\"T_517cc_row4_col2\" class=\"data row4 col2\" >Comedy, Demons, Supernatural, Romance, Fantasy, Shoujo</td>\n",
       "    </tr>\n",
       "    <tr>\n",
       "      <td id=\"T_517cc_row5_col0\" class=\"data row5 col0\" >15583</td>\n",
       "      <td id=\"T_517cc_row5_col1\" class=\"data row5 col1\" >Date A Live</td>\n",
       "      <td id=\"T_517cc_row5_col2\" class=\"data row5 col2\" >Sci-Fi, Harem, Comedy, Romance, Mecha, School</td>\n",
       "    </tr>\n",
       "    <tr>\n",
       "      <td id=\"T_517cc_row6_col0\" class=\"data row6 col0\" >27655</td>\n",
       "      <td id=\"T_517cc_row6_col1\" class=\"data row6 col1\" >Aldnoah.Zero 2nd Season</td>\n",
       "      <td id=\"T_517cc_row6_col2\" class=\"data row6 col2\" >Action, Mecha, Sci-Fi, Space</td>\n",
       "    </tr>\n",
       "    <tr>\n",
       "      <td id=\"T_517cc_row7_col0\" class=\"data row7 col0\" >27775</td>\n",
       "      <td id=\"T_517cc_row7_col1\" class=\"data row7 col1\" >Plastic Memories</td>\n",
       "      <td id=\"T_517cc_row7_col2\" class=\"data row7 col2\" >Sci-Fi, Drama, Romance</td>\n",
       "    </tr>\n",
       "    <tr>\n",
       "      <td id=\"T_517cc_row8_col0\" class=\"data row8 col0\" >31680</td>\n",
       "      <td id=\"T_517cc_row8_col1\" class=\"data row8 col1\" >Super Lovers</td>\n",
       "      <td id=\"T_517cc_row8_col2\" class=\"data row8 col2\" >Slice of Life, Comedy, Drama, Romance, Shounen Ai</td>\n",
       "    </tr>\n",
       "    <tr>\n",
       "      <td id=\"T_517cc_row9_col0\" class=\"data row9 col0\" >38671</td>\n",
       "      <td id=\"T_517cc_row9_col1\" class=\"data row9 col1\" >Enen no Shouboutai</td>\n",
       "      <td id=\"T_517cc_row9_col2\" class=\"data row9 col2\" >Action, Supernatural, Shounen</td>\n",
       "    </tr>\n",
       "  </tbody>\n",
       "</table>\n"
      ],
      "text/plain": [
       "<pandas.io.formats.style.Styler at 0x7f820fbdcbb0>"
      ]
     },
     "metadata": {}
    },
    {
     "output_type": "stream",
     "name": "stdout",
     "text": [
      "Recommended\n"
     ]
    },
    {
     "output_type": "display_data",
     "data": {
      "text/html": [
       "<style type=\"text/css\">\n",
       "</style>\n",
       "<table id=\"T_b0f1e_\">\n",
       "  <thead>\n",
       "    <tr>\n",
       "      <th class=\"col_heading level0 col0\" >anime_id</th>\n",
       "      <th class=\"col_heading level0 col1\" >Name</th>\n",
       "      <th class=\"col_heading level0 col2\" >Genres</th>\n",
       "    </tr>\n",
       "  </thead>\n",
       "  <tbody>\n",
       "    <tr>\n",
       "      <td id=\"T_b0f1e_row0_col0\" class=\"data row0 col0\" >18153</td>\n",
       "      <td id=\"T_b0f1e_row0_col1\" class=\"data row0 col1\" >Kyoukai no Kanata</td>\n",
       "      <td id=\"T_b0f1e_row0_col2\" class=\"data row0 col2\" >Slice of Life, Supernatural, Fantasy</td>\n",
       "    </tr>\n",
       "    <tr>\n",
       "      <td id=\"T_b0f1e_row1_col0\" class=\"data row1 col0\" >9919</td>\n",
       "      <td id=\"T_b0f1e_row1_col1\" class=\"data row1 col1\" >Ao no Exorcist</td>\n",
       "      <td id=\"T_b0f1e_row1_col2\" class=\"data row1 col2\" >Action, Demons, Fantasy, Shounen, Supernatural</td>\n",
       "    </tr>\n",
       "    <tr>\n",
       "      <td id=\"T_b0f1e_row2_col0\" class=\"data row2 col0\" >6746</td>\n",
       "      <td id=\"T_b0f1e_row2_col1\" class=\"data row2 col1\" >Durarara!!</td>\n",
       "      <td id=\"T_b0f1e_row2_col2\" class=\"data row2 col2\" >Action, Mystery, Supernatural</td>\n",
       "    </tr>\n",
       "    <tr>\n",
       "      <td id=\"T_b0f1e_row3_col0\" class=\"data row3 col0\" >38000</td>\n",
       "      <td id=\"T_b0f1e_row3_col1\" class=\"data row3 col1\" >Kimetsu no Yaiba</td>\n",
       "      <td id=\"T_b0f1e_row3_col2\" class=\"data row3 col2\" >Action, Demons, Historical, Shounen, Supernatural</td>\n",
       "    </tr>\n",
       "    <tr>\n",
       "      <td id=\"T_b0f1e_row4_col0\" class=\"data row4 col0\" >14467</td>\n",
       "      <td id=\"T_b0f1e_row4_col1\" class=\"data row4 col1\" >K</td>\n",
       "      <td id=\"T_b0f1e_row4_col2\" class=\"data row4 col2\" >Action, Mystery, Super Power, Supernatural</td>\n",
       "    </tr>\n",
       "    <tr>\n",
       "      <td id=\"T_b0f1e_row5_col0\" class=\"data row5 col0\" >18679</td>\n",
       "      <td id=\"T_b0f1e_row5_col1\" class=\"data row5 col1\" >Kill la Kill</td>\n",
       "      <td id=\"T_b0f1e_row5_col2\" class=\"data row5 col2\" >Action, Comedy, Super Power, Ecchi, School</td>\n",
       "    </tr>\n",
       "    <tr>\n",
       "      <td id=\"T_b0f1e_row6_col0\" class=\"data row6 col0\" >26243</td>\n",
       "      <td id=\"T_b0f1e_row6_col1\" class=\"data row6 col1\" >Owari no Seraph</td>\n",
       "      <td id=\"T_b0f1e_row6_col2\" class=\"data row6 col2\" >Action, Military, Supernatural, Drama, Vampire, Shounen</td>\n",
       "    </tr>\n",
       "    <tr>\n",
       "      <td id=\"T_b0f1e_row7_col0\" class=\"data row7 col0\" >14513</td>\n",
       "      <td id=\"T_b0f1e_row7_col1\" class=\"data row7 col1\" >Magi: The Labyrinth of Magic</td>\n",
       "      <td id=\"T_b0f1e_row7_col2\" class=\"data row7 col2\" >Action, Adventure, Fantasy, Magic, Shounen</td>\n",
       "    </tr>\n",
       "    <tr>\n",
       "      <td id=\"T_b0f1e_row8_col0\" class=\"data row8 col0\" >4898</td>\n",
       "      <td id=\"T_b0f1e_row8_col1\" class=\"data row8 col1\" >Kuroshitsuji</td>\n",
       "      <td id=\"T_b0f1e_row8_col2\" class=\"data row8 col2\" >Action, Mystery, Comedy, Historical, Demons, Supernatural, Shounen</td>\n",
       "    </tr>\n",
       "    <tr>\n",
       "      <td id=\"T_b0f1e_row9_col0\" class=\"data row9 col0\" >25777</td>\n",
       "      <td id=\"T_b0f1e_row9_col1\" class=\"data row9 col1\" >Shingeki no Kyojin Season 2</td>\n",
       "      <td id=\"T_b0f1e_row9_col2\" class=\"data row9 col2\" >Action, Military, Mystery, Super Power, Drama, Fantasy, Shounen</td>\n",
       "    </tr>\n",
       "  </tbody>\n",
       "</table>\n"
      ],
      "text/plain": [
       "<pandas.io.formats.style.Styler at 0x7f825db41d60>"
      ]
     },
     "metadata": {}
    },
    {
     "output_type": "stream",
     "name": "stdout",
     "text": [
      "User ID: 161872\n",
      "Previously Watched\n"
     ]
    },
    {
     "output_type": "display_data",
     "data": {
      "text/html": [
       "<style type=\"text/css\">\n",
       "</style>\n",
       "<table id=\"T_04874_\">\n",
       "  <thead>\n",
       "    <tr>\n",
       "      <th class=\"col_heading level0 col0\" >anime_id</th>\n",
       "      <th class=\"col_heading level0 col1\" >Name</th>\n",
       "      <th class=\"col_heading level0 col2\" >Genres</th>\n",
       "    </tr>\n",
       "  </thead>\n",
       "  <tbody>\n",
       "    <tr>\n",
       "      <td id=\"T_04874_row0_col0\" class=\"data row0 col0\" >3588</td>\n",
       "      <td id=\"T_04874_row0_col1\" class=\"data row0 col1\" >Soul Eater</td>\n",
       "      <td id=\"T_04874_row0_col2\" class=\"data row0 col2\" >Action, Fantasy, Comedy, Supernatural, Shounen</td>\n",
       "    </tr>\n",
       "    <tr>\n",
       "      <td id=\"T_04874_row1_col0\" class=\"data row1 col0\" >6746</td>\n",
       "      <td id=\"T_04874_row1_col1\" class=\"data row1 col1\" >Durarara!!</td>\n",
       "      <td id=\"T_04874_row1_col2\" class=\"data row1 col2\" >Action, Mystery, Supernatural</td>\n",
       "    </tr>\n",
       "    <tr>\n",
       "      <td id=\"T_04874_row2_col0\" class=\"data row2 col0\" >10163</td>\n",
       "      <td id=\"T_04874_row2_col1\" class=\"data row2 col1\" >C: The Money of Soul and Possibility Control</td>\n",
       "      <td id=\"T_04874_row2_col2\" class=\"data row2 col2\" >Action, Mystery, Super Power, Thriller</td>\n",
       "    </tr>\n",
       "    <tr>\n",
       "      <td id=\"T_04874_row3_col0\" class=\"data row3 col0\" >14131</td>\n",
       "      <td id=\"T_04874_row3_col1\" class=\"data row3 col1\" >Girls & Panzer</td>\n",
       "      <td id=\"T_04874_row3_col2\" class=\"data row3 col2\" >Action, Sports, Military, School</td>\n",
       "    </tr>\n",
       "    <tr>\n",
       "      <td id=\"T_04874_row4_col0\" class=\"data row4 col0\" >16049</td>\n",
       "      <td id=\"T_04874_row4_col1\" class=\"data row4 col1\" >Toaru Kagaku no Railgun S</td>\n",
       "      <td id=\"T_04874_row4_col2\" class=\"data row4 col2\" >Action, Sci-Fi, Super Power</td>\n",
       "    </tr>\n",
       "    <tr>\n",
       "      <td id=\"T_04874_row5_col0\" class=\"data row5 col0\" >29786</td>\n",
       "      <td id=\"T_04874_row5_col1\" class=\"data row5 col1\" >Shimoneta to Iu Gainen ga Sonzai Shinai Taikutsu na Sekai</td>\n",
       "      <td id=\"T_04874_row5_col2\" class=\"data row5 col2\" >Comedy, Ecchi, School</td>\n",
       "    </tr>\n",
       "    <tr>\n",
       "      <td id=\"T_04874_row6_col0\" class=\"data row6 col0\" >31757</td>\n",
       "      <td id=\"T_04874_row6_col1\" class=\"data row6 col1\" >Kizumonogatari II: Nekketsu-hen</td>\n",
       "      <td id=\"T_04874_row6_col2\" class=\"data row6 col2\" >Action, Mystery, Supernatural, Vampire</td>\n",
       "    </tr>\n",
       "    <tr>\n",
       "      <td id=\"T_04874_row7_col0\" class=\"data row7 col0\" >32867</td>\n",
       "      <td id=\"T_04874_row7_col1\" class=\"data row7 col1\" >Bungou Stray Dogs 2nd Season</td>\n",
       "      <td id=\"T_04874_row7_col2\" class=\"data row7 col2\" >Action, Mystery, Seinen, Super Power, Supernatural</td>\n",
       "    </tr>\n",
       "    <tr>\n",
       "      <td id=\"T_04874_row8_col0\" class=\"data row8 col0\" >32937</td>\n",
       "      <td id=\"T_04874_row8_col1\" class=\"data row8 col1\" >Kono Subarashii Sekai ni Shukufuku wo! 2</td>\n",
       "      <td id=\"T_04874_row8_col2\" class=\"data row8 col2\" >Adventure, Comedy, Parody, Supernatural, Magic, Fantasy</td>\n",
       "    </tr>\n",
       "    <tr>\n",
       "      <td id=\"T_04874_row9_col0\" class=\"data row9 col0\" >36028</td>\n",
       "      <td id=\"T_04874_row9_col1\" class=\"data row9 col1\" >Golden Kamuy</td>\n",
       "      <td id=\"T_04874_row9_col2\" class=\"data row9 col2\" >Action, Adventure, Historical, Seinen</td>\n",
       "    </tr>\n",
       "  </tbody>\n",
       "</table>\n"
      ],
      "text/plain": [
       "<pandas.io.formats.style.Styler at 0x7f81f1666f10>"
      ]
     },
     "metadata": {}
    },
    {
     "output_type": "stream",
     "name": "stdout",
     "text": [
      "Recommended\n"
     ]
    },
    {
     "output_type": "display_data",
     "data": {
      "text/html": [
       "<style type=\"text/css\">\n",
       "</style>\n",
       "<table id=\"T_f09b6_\">\n",
       "  <thead>\n",
       "    <tr>\n",
       "      <th class=\"col_heading level0 col0\" >anime_id</th>\n",
       "      <th class=\"col_heading level0 col1\" >Name</th>\n",
       "      <th class=\"col_heading level0 col2\" >Genres</th>\n",
       "    </tr>\n",
       "  </thead>\n",
       "  <tbody>\n",
       "    <tr>\n",
       "      <td id=\"T_f09b6_row0_col0\" class=\"data row0 col0\" >32182</td>\n",
       "      <td id=\"T_f09b6_row0_col1\" class=\"data row0 col1\" >Mob Psycho 100</td>\n",
       "      <td id=\"T_f09b6_row0_col2\" class=\"data row0 col2\" >Action, Slice of Life, Comedy, Supernatural</td>\n",
       "    </tr>\n",
       "    <tr>\n",
       "      <td id=\"T_f09b6_row1_col0\" class=\"data row1 col0\" >199</td>\n",
       "      <td id=\"T_f09b6_row1_col1\" class=\"data row1 col1\" >Sen to Chihiro no Kamikakushi</td>\n",
       "      <td id=\"T_f09b6_row1_col2\" class=\"data row1 col2\" >Adventure, Supernatural, Drama</td>\n",
       "    </tr>\n",
       "    <tr>\n",
       "      <td id=\"T_f09b6_row2_col0\" class=\"data row2 col0\" >11597</td>\n",
       "      <td id=\"T_f09b6_row2_col1\" class=\"data row2 col1\" >Nisemonogatari</td>\n",
       "      <td id=\"T_f09b6_row2_col2\" class=\"data row2 col2\" >Mystery, Comedy, Supernatural, Ecchi</td>\n",
       "    </tr>\n",
       "    <tr>\n",
       "      <td id=\"T_f09b6_row3_col0\" class=\"data row3 col0\" >25777</td>\n",
       "      <td id=\"T_f09b6_row3_col1\" class=\"data row3 col1\" >Shingeki no Kyojin Season 2</td>\n",
       "      <td id=\"T_f09b6_row3_col2\" class=\"data row3 col2\" >Action, Military, Mystery, Super Power, Drama, Fantasy, Shounen</td>\n",
       "    </tr>\n",
       "    <tr>\n",
       "      <td id=\"T_f09b6_row4_col0\" class=\"data row4 col0\" >121</td>\n",
       "      <td id=\"T_f09b6_row4_col1\" class=\"data row4 col1\" >Fullmetal Alchemist</td>\n",
       "      <td id=\"T_f09b6_row4_col2\" class=\"data row4 col2\" >Action, Adventure, Comedy, Drama, Fantasy, Magic, Military, Shounen</td>\n",
       "    </tr>\n",
       "    <tr>\n",
       "      <td id=\"T_f09b6_row5_col0\" class=\"data row5 col0\" >18679</td>\n",
       "      <td id=\"T_f09b6_row5_col1\" class=\"data row5 col1\" >Kill la Kill</td>\n",
       "      <td id=\"T_f09b6_row5_col2\" class=\"data row5 col2\" >Action, Comedy, Super Power, Ecchi, School</td>\n",
       "    </tr>\n",
       "    <tr>\n",
       "      <td id=\"T_f09b6_row6_col0\" class=\"data row6 col0\" >2251</td>\n",
       "      <td id=\"T_f09b6_row6_col1\" class=\"data row6 col1\" >Baccano!</td>\n",
       "      <td id=\"T_f09b6_row6_col2\" class=\"data row6 col2\" >Action, Comedy, Historical, Mystery, Supernatural</td>\n",
       "    </tr>\n",
       "    <tr>\n",
       "      <td id=\"T_f09b6_row7_col0\" class=\"data row7 col0\" >38524</td>\n",
       "      <td id=\"T_f09b6_row7_col1\" class=\"data row7 col1\" >Shingeki no Kyojin Season 3 Part 2</td>\n",
       "      <td id=\"T_f09b6_row7_col2\" class=\"data row7 col2\" >Action, Drama, Fantasy, Military, Mystery, Shounen, Super Power</td>\n",
       "    </tr>\n",
       "    <tr>\n",
       "      <td id=\"T_f09b6_row8_col0\" class=\"data row8 col0\" >36456</td>\n",
       "      <td id=\"T_f09b6_row8_col1\" class=\"data row8 col1\" >Boku no Hero Academia 3rd Season</td>\n",
       "      <td id=\"T_f09b6_row8_col2\" class=\"data row8 col2\" >Action, Comedy, Super Power, School, Shounen</td>\n",
       "    </tr>\n",
       "    <tr>\n",
       "      <td id=\"T_f09b6_row9_col0\" class=\"data row9 col0\" >24833</td>\n",
       "      <td id=\"T_f09b6_row9_col1\" class=\"data row9 col1\" >Ansatsu Kyoushitsu</td>\n",
       "      <td id=\"T_f09b6_row9_col2\" class=\"data row9 col2\" >Action, Comedy, School, Shounen</td>\n",
       "    </tr>\n",
       "  </tbody>\n",
       "</table>\n"
      ],
      "text/plain": [
       "<pandas.io.formats.style.Styler at 0x7f820fbdcbb0>"
      ]
     },
     "metadata": {}
    }
   ],
   "metadata": {}
  },
  {
   "cell_type": "markdown",
   "source": [
    "(En el informe se analizan estos resultados y se sacan las conclusiones de este trabajo)"
   ],
   "metadata": {}
  }
 ],
 "metadata": {
  "orig_nbformat": 4,
  "language_info": {
   "name": "python",
   "version": "3.8.10",
   "mimetype": "text/x-python",
   "codemirror_mode": {
    "name": "ipython",
    "version": 3
   },
   "pygments_lexer": "ipython3",
   "nbconvert_exporter": "python",
   "file_extension": ".py"
  },
  "kernelspec": {
   "name": "python3",
   "display_name": "Python 3.8.10 64-bit ('venv': venv)"
  },
  "interpreter": {
   "hash": "21fca7d2d67cfc969a1e99596bfcf7fb9693e1b75d46c46dcd29313b64c66ceb"
  }
 },
 "nbformat": 4,
 "nbformat_minor": 2
}